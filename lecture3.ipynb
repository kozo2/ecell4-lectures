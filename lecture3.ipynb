{
  "nbformat": 4,
  "nbformat_minor": 0,
  "metadata": {
    "colab": {
      "name": "lecture3.ipynb",
      "version": "0.3.2",
      "provenance": []
    },
    "kernelspec": {
      "display_name": "Python 3",
      "language": "python",
      "name": "python3"
    }
  },
  "cells": [
    {
      "metadata": {
        "slideshow": {
          "slide_type": "slide"
        },
        "id": "MGDidDXgS6mg",
        "colab_type": "text"
      },
      "cell_type": "markdown",
      "source": [
        "# <p style=\"text-align:center\">Lecture 3. E-Cell4の構造</p>"
      ]
    },
    {
      "metadata": {
        "id": "wURcwkzZS6mh",
        "colab_type": "text"
      },
      "cell_type": "markdown",
      "source": [
        "<p style=\"text-align:center;font-size:150%;line-height:150%\">海津一成</p>"
      ]
    },
    {
      "metadata": {
        "id": "jDxDY-XHS8IG",
        "colab_type": "code",
        "colab": {
          "base_uri": "https://localhost:8080/",
          "height": 187
        },
        "outputId": "db2fa36f-e296-466d-f91f-3ce3f6cb2def"
      },
      "cell_type": "code",
      "source": [
        "!pip install ecell4"
      ],
      "execution_count": 1,
      "outputs": [
        {
          "output_type": "stream",
          "text": [
            "Requirement already satisfied: ecell4 in /usr/local/lib/python3.6/dist-packages (1.0.0)\n",
            "Requirement already satisfied: matplotlib in /usr/local/lib/python3.6/dist-packages (from ecell4) (3.0.2)\n",
            "Requirement already satisfied: ecell4-base in /usr/local/lib/python3.6/dist-packages (from ecell4) (1.0.0)\n",
            "Requirement already satisfied: pyparsing!=2.0.4,!=2.1.2,!=2.1.6,>=2.0.1 in /usr/local/lib/python3.6/dist-packages (from matplotlib->ecell4) (2.3.1)\n",
            "Requirement already satisfied: python-dateutil>=2.1 in /usr/local/lib/python3.6/dist-packages (from matplotlib->ecell4) (2.5.3)\n",
            "Requirement already satisfied: cycler>=0.10 in /usr/local/lib/python3.6/dist-packages (from matplotlib->ecell4) (0.10.0)\n",
            "Requirement already satisfied: kiwisolver>=1.0.1 in /usr/local/lib/python3.6/dist-packages (from matplotlib->ecell4) (1.0.1)\n",
            "Requirement already satisfied: numpy>=1.10.0 in /usr/local/lib/python3.6/dist-packages (from matplotlib->ecell4) (1.14.6)\n",
            "Requirement already satisfied: six>=1.5 in /usr/local/lib/python3.6/dist-packages (from python-dateutil>=2.1->matplotlib->ecell4) (1.11.0)\n",
            "Requirement already satisfied: setuptools in /usr/local/lib/python3.6/dist-packages (from kiwisolver>=1.0.1->matplotlib->ecell4) (40.8.0)\n"
          ],
          "name": "stdout"
        }
      ]
    },
    {
      "metadata": {
        "slideshow": {
          "slide_type": "skip"
        },
        "id": "jsxa-g1eS6mi",
        "colab_type": "code",
        "colab": {}
      },
      "cell_type": "code",
      "source": [
        "%matplotlib inline\n",
        "from ecell4 import *\n",
        "from ecell4_base.core import *\n",
        "from ecell4_base import *"
      ],
      "execution_count": 0,
      "outputs": []
    },
    {
      "metadata": {
        "slideshow": {
          "slide_type": "skip"
        },
        "id": "1jTJGFIVS6mk",
        "colab_type": "code",
        "colab": {}
      },
      "cell_type": "code",
      "source": [
        "import seaborn\n",
        "seaborn.set(font_scale=1.5)"
      ],
      "execution_count": 0,
      "outputs": []
    },
    {
      "metadata": {
        "slideshow": {
          "slide_type": "skip"
        },
        "id": "jK0No7-7S6mm",
        "colab_type": "code",
        "colab": {}
      },
      "cell_type": "code",
      "source": [
        "import matplotlib as mpl\n",
        "# mpl.rc(\"figure\", figsize=(8.0, 5.5))\n",
        "mpl.rc(\"figure\", figsize=(6, 4))"
      ],
      "execution_count": 0,
      "outputs": []
    },
    {
      "metadata": {
        "slideshow": {
          "slide_type": "slide"
        },
        "id": "tDHDL8lYS6mp",
        "colab_type": "text"
      },
      "cell_type": "markdown",
      "source": [
        "## E-Cell4の基本要素\n",
        "\n",
        "E-Cell4を使う上で理解しなければならない3つの要素として`Model`、`World`、`Simulator`があり、計算における異なる概念をあらわしている。"
      ]
    },
    {
      "metadata": {
        "slideshow": {
          "slide_type": "fragment"
        },
        "id": "psrvuS_BS6mq",
        "colab_type": "text"
      },
      "cell_type": "markdown",
      "source": [
        "- `Model`: いわゆるモデル。分子の特徴量（拡散定数、大きさなど）や反応を記述したもの。具体的には`NetworkModel`を使う。"
      ]
    },
    {
      "metadata": {
        "slideshow": {
          "slide_type": "fragment"
        },
        "id": "083uJll7S6mr",
        "colab_type": "text"
      },
      "cell_type": "markdown",
      "source": [
        "- `World`: ある時刻における状態をあらわすもの。分子の数や位置、空間の表現法など。使う`World`はアルゴリズムによって異なる. 例えば、`ode.World`みたいな感じ。"
      ]
    },
    {
      "metadata": {
        "slideshow": {
          "slide_type": "fragment"
        },
        "id": "-jhFflORS6ms",
        "colab_type": "text"
      },
      "cell_type": "markdown",
      "source": [
        "- Simulator: 時間発展に関する計算手法をまとめたもの。ソルバーとも言う。例えば、`ode.Simulator`みたいな感じ。"
      ]
    },
    {
      "metadata": {
        "slideshow": {
          "slide_type": "slide"
        },
        "id": "bSoDZrgKS6ms",
        "colab_type": "text"
      },
      "cell_type": "markdown",
      "source": [
        "## E-Cell4におけるModelの基本"
      ]
    },
    {
      "metadata": {
        "slideshow": {
          "slide_type": "fragment"
        },
        "id": "bzkAjNHeS6mt",
        "colab_type": "text"
      },
      "cell_type": "markdown",
      "source": [
        "Modelは扱う問題を記述したもので、大きく2つの要素によって構成されている。\n",
        "\n",
        "- `Species`: すなわち分子種。モデルに登場する実体をあらわす。\n",
        "- `ReactionRule`: すなわち反応則。分子種（`Species`）間の相互作用をあらわす。"
      ]
    },
    {
      "metadata": {
        "slideshow": {
          "slide_type": "fragment"
        },
        "id": "bXaVfD9SS6mu",
        "colab_type": "text"
      },
      "cell_type": "markdown",
      "source": [
        "E-Cell4では主に化学反応を扱うので、それを例に言えば\n",
        "\n",
        "- `Species`: 基質や酵素などどんな種類の分子が存在し、それらがどのような性質 (分子の大きさなど)を持つかをあらわす。\n",
        "- `ReactionRule`: 結合やかい離などそれら分子間にどのような反応があるかをあらわす。"
      ]
    },
    {
      "metadata": {
        "slideshow": {
          "slide_type": "slide"
        },
        "id": "J9zviAvQS6mv",
        "colab_type": "text"
      },
      "cell_type": "markdown",
      "source": [
        "## 分子種 `Species`\n",
        "\n",
        "E-Cell4を使って`Species`を作るには"
      ]
    },
    {
      "metadata": {
        "id": "b6Bn7uUKS6mv",
        "colab_type": "code",
        "colab": {}
      },
      "cell_type": "code",
      "source": [
        "A = Species('A')\n",
        "B = Species('B')"
      ],
      "execution_count": 0,
      "outputs": []
    },
    {
      "metadata": {
        "id": "-vx8Q_lsS6my",
        "colab_type": "text"
      },
      "cell_type": "markdown",
      "source": [
        "とすれば良い。\n",
        "\n",
        "それぞれ、AとBという名前の分子種をあらわす。1個の特定の分子ではなく、そういう種類の分子があることを意味している。"
      ]
    },
    {
      "metadata": {
        "slideshow": {
          "slide_type": "subslide"
        },
        "id": "rIQ74WvYS6mz",
        "colab_type": "text"
      },
      "cell_type": "markdown",
      "source": [
        "`Species`には任意の属性を持たせることで、どのような性質を持つのかを指定できる。"
      ]
    },
    {
      "metadata": {
        "id": "VrotTOFfS6m0",
        "colab_type": "code",
        "colab": {}
      },
      "cell_type": "code",
      "source": [
        "A = Species(\"A\")\n",
        "A.set_attribute(\"radius\", 0.005)\n",
        "A.set_attribute(\"D\", 1)\n",
        "A.set_attribute(\"location\", \"cytoplasm\")"
      ],
      "execution_count": 0,
      "outputs": []
    },
    {
      "metadata": {
        "id": "dQ2dkaTUS6m2",
        "colab_type": "text"
      },
      "cell_type": "markdown",
      "source": [
        "1つ目に与える引数が属性名で、2つ目がその値で、属性名は文字列で値は文字列か数値、真偽値でなければならない。"
      ]
    },
    {
      "metadata": {
        "slideshow": {
          "slide_type": "fragment"
        },
        "id": "PXANon2VS6m3",
        "colab_type": "text"
      },
      "cell_type": "markdown",
      "source": [
        "属性のうち特に分子径、拡散係数、属する場所は頻繁に用いられるので簡単に"
      ]
    },
    {
      "metadata": {
        "id": "yX3DCWzwS6m5",
        "colab_type": "code",
        "colab": {}
      },
      "cell_type": "code",
      "source": [
        "A = Species(\"A\", 0.005, 1, \"cytoplasm\")  # XXX: serial, radius, D, location"
      ],
      "execution_count": 0,
      "outputs": []
    },
    {
      "metadata": {
        "id": "y5xCwiP-S6m7",
        "colab_type": "text"
      },
      "cell_type": "markdown",
      "source": [
        "でまとめて与えることができる。"
      ]
    },
    {
      "metadata": {
        "slideshow": {
          "slide_type": "subslide"
        },
        "id": "aecQEljaS6m8",
        "colab_type": "text"
      },
      "cell_type": "markdown",
      "source": [
        "与えたSpeciesの属性を知りたいときは"
      ]
    },
    {
      "metadata": {
        "id": "V8e5IPt6S6m9",
        "colab_type": "code",
        "colab": {
          "base_uri": "https://localhost:8080/",
          "height": 85
        },
        "outputId": "4594c511-4ce3-48d1-ee73-d8bf64178e96"
      },
      "cell_type": "code",
      "source": [
        "print(A.serial())\n",
        "print(A.get_attribute(\"radius\").magnitude)\n",
        "print(A.get_attribute(\"D\").magnitude)\n",
        "print(A.get_attribute(\"location\"))"
      ],
      "execution_count": 8,
      "outputs": [
        {
          "output_type": "stream",
          "text": [
            "A\n",
            "0.005\n",
            "1.0\n",
            "cytoplasm\n"
          ],
          "name": "stdout"
        }
      ]
    },
    {
      "metadata": {
        "id": "sIHDp_9jS6nA",
        "colab_type": "text"
      },
      "cell_type": "markdown",
      "source": [
        "とすれば良い。数値属性は単位を伴った`Quantity`として返されるので`magnitude`によって値だけ取り出せる。"
      ]
    },
    {
      "metadata": {
        "slideshow": {
          "slide_type": "skip"
        },
        "id": "vtDbcaT6S6nA",
        "colab_type": "code",
        "colab": {}
      },
      "cell_type": "code",
      "source": [
        "del A, B"
      ],
      "execution_count": 0,
      "outputs": []
    },
    {
      "metadata": {
        "slideshow": {
          "slide_type": "slide"
        },
        "id": "trUeRE5wS6nC",
        "colab_type": "text"
      },
      "cell_type": "markdown",
      "source": [
        "## 反応則 `ReactionRule`"
      ]
    },
    {
      "metadata": {
        "id": "Zk6z4od1S6nD",
        "colab_type": "text"
      },
      "cell_type": "markdown",
      "source": [
        "`Species`ができたところで今度は反応を作ってみる。"
      ]
    },
    {
      "metadata": {
        "collapsed": true,
        "slideshow": {
          "slide_type": "fragment"
        },
        "id": "213qQ1LRS6nE",
        "colab_type": "text"
      },
      "cell_type": "markdown",
      "source": [
        "反応はおおざっぱに言って、何かの分子種が何かの分子種になること。\n",
        "\n",
        "前者をReactants、後者をProductsと呼ぶ。あとはその反応の速さ（速度定数）を数値で与えれば良い。"
      ]
    },
    {
      "metadata": {
        "slideshow": {
          "slide_type": "fragment"
        },
        "id": "pyk3d4mXS6nF",
        "colab_type": "code",
        "colab": {}
      },
      "cell_type": "code",
      "source": [
        "rr = ReactionRule()\n",
        "rr.add_reactant(Species(\"A\"))\n",
        "rr.add_product(Species(\"B\"))\n",
        "rr.set_k(1.0)"
      ],
      "execution_count": 0,
      "outputs": []
    },
    {
      "metadata": {
        "id": "sPXz_0jBS6nH",
        "colab_type": "text"
      },
      "cell_type": "markdown",
      "source": [
        "これで分子種`A`が分子種`B`に変る反応を作れた。ここでは反応を定義しているので、`Species`に属性値はなくても良い。"
      ]
    },
    {
      "metadata": {
        "slideshow": {
          "slide_type": "subslide"
        },
        "id": "1QwnZEiSS6nI",
        "colab_type": "text"
      },
      "cell_type": "markdown",
      "source": [
        "確認してみる。与えられた`ReactionRule`がどのようなものかを簡単に知りたい場合は`as_string`関数で見られる。"
      ]
    },
    {
      "metadata": {
        "id": "L9oQ9vIzS6nJ",
        "colab_type": "code",
        "colab": {
          "base_uri": "https://localhost:8080/",
          "height": 54
        },
        "outputId": "91021553-309c-44de-db98-103636e95837"
      },
      "cell_type": "code",
      "source": [
        "print(rr.as_string())"
      ],
      "execution_count": 11,
      "outputs": [
        {
          "output_type": "stream",
          "text": [
            "A>B|1\n"
          ],
          "name": "stdout"
        }
      ]
    },
    {
      "metadata": {
        "slideshow": {
          "slide_type": "subslide"
        },
        "id": "xi1LzY7XS6nN",
        "colab_type": "text"
      },
      "cell_type": "markdown",
      "source": [
        "結合もこれと同じに記述できる。`A`と`B`の結合によって`C`ができる。"
      ]
    },
    {
      "metadata": {
        "id": "3Tze14ulS6nO",
        "colab_type": "code",
        "colab": {
          "base_uri": "https://localhost:8080/",
          "height": 54
        },
        "outputId": "0fc15e06-d776-4be8-ba42-828c024bcc50"
      },
      "cell_type": "code",
      "source": [
        "rr = ReactionRule()\n",
        "rr.add_reactant(Species(\"A\"))\n",
        "rr.add_reactant(Species(\"B\"))\n",
        "rr.add_product(Species(\"C\"))\n",
        "rr.set_k(1.0)\n",
        "\n",
        "print(rr.as_string())"
      ],
      "execution_count": 12,
      "outputs": [
        {
          "output_type": "stream",
          "text": [
            "A+B>C|1\n"
          ],
          "name": "stdout"
        }
      ]
    },
    {
      "metadata": {
        "slideshow": {
          "slide_type": "subslide"
        },
        "id": "TYiSXfdrS6nR",
        "colab_type": "text"
      },
      "cell_type": "markdown",
      "source": [
        "より読み手に伝わりやすい書き方として以下の便利関数も用意されている。"
      ]
    },
    {
      "metadata": {
        "id": "-s6vSOKFS6nR",
        "colab_type": "code",
        "colab": {}
      },
      "cell_type": "code",
      "source": [
        "rr1 = create_unimolecular_reaction_rule(\n",
        "    Species(\"A\"), Species(\"B\"), 1.0)\n",
        "rr2 = create_binding_reaction_rule(\n",
        "    Species(\"A\"), Species(\"B\"), Species(\"C\"), 1.0)\n",
        "rr3 = create_unbinding_reaction_rule(\n",
        "    Species(\"C\"), Species(\"A\"), Species(\"B\"), 1.0)"
      ],
      "execution_count": 0,
      "outputs": []
    },
    {
      "metadata": {
        "slideshow": {
          "slide_type": "slide"
        },
        "id": "oqzL00lIS6nT",
        "colab_type": "text"
      },
      "cell_type": "markdown",
      "source": [
        "## ネットワークモデル `NetworkModel`"
      ]
    },
    {
      "metadata": {
        "id": "j7NWh-c5S6nU",
        "colab_type": "text"
      },
      "cell_type": "markdown",
      "source": [
        "以上で`Model`に含まれる要素を作れるようになった。"
      ]
    },
    {
      "metadata": {
        "id": "CNpc1SPyS6nU",
        "colab_type": "code",
        "colab": {}
      },
      "cell_type": "code",
      "source": [
        "sp1 = Species(\"A\", 0.005, 1.0)\n",
        "sp2 = Species(\"B\", 0.005, 1.0)\n",
        "sp3 = Species(\"C\", 0.010, 0.5)\n",
        "rr1 = create_binding_reaction_rule(\n",
        "    Species(\"A\"), Species(\"B\"), Species(\"C\"), 0.01)\n",
        "rr2 = create_unbinding_reaction_rule(\n",
        "    Species(\"C\"), Species(\"A\"), Species(\"B\"), 0.3)"
      ],
      "execution_count": 0,
      "outputs": []
    },
    {
      "metadata": {
        "slideshow": {
          "slide_type": "-"
        },
        "id": "v5HUPePMS6nW",
        "colab_type": "text"
      },
      "cell_type": "markdown",
      "source": [
        "あとはこれらを`Model`に追加していく。"
      ]
    },
    {
      "metadata": {
        "slideshow": {
          "slide_type": "subslide"
        },
        "id": "FeiJkv_uS6nX",
        "colab_type": "text"
      },
      "cell_type": "markdown",
      "source": [
        "`Species`の追加は`add_species_attribute`で、`ReactionRule`の追加は`add_reaction_rule`で行う。"
      ]
    },
    {
      "metadata": {
        "id": "Ao9TaSaMS6nY",
        "colab_type": "code",
        "colab": {}
      },
      "cell_type": "code",
      "source": [
        "m = NetworkModel()\n",
        "m.add_species_attribute(sp1)\n",
        "m.add_species_attribute(sp2)\n",
        "m.add_species_attribute(sp3)\n",
        "m.add_reaction_rule(rr1)\n",
        "m.add_reaction_rule(rr2)"
      ],
      "execution_count": 0,
      "outputs": []
    },
    {
      "metadata": {
        "id": "I9QD6SKQS6na",
        "colab_type": "text"
      },
      "cell_type": "markdown",
      "source": [
        "これで簡単な結合とかい離のモデルを作ることができた。"
      ]
    },
    {
      "metadata": {
        "slideshow": {
          "slide_type": "subslide"
        },
        "id": "QnbeIRpCS6nb",
        "colab_type": "text"
      },
      "cell_type": "markdown",
      "source": [
        "モデルの中身を取り出すときには`species_attributes`と`reaction_rules`を使う。`list_species`はまた別物なので注意！"
      ]
    },
    {
      "metadata": {
        "id": "eoQmqERtS6nc",
        "colab_type": "code",
        "colab": {
          "base_uri": "https://localhost:8080/",
          "height": 71
        },
        "outputId": "04036604-0e43-4c45-f87a-91b80359f470"
      },
      "cell_type": "code",
      "source": [
        "print(m.species_attributes())\n",
        "print(m.reaction_rules())"
      ],
      "execution_count": 16,
      "outputs": [
        {
          "output_type": "stream",
          "text": [
            "[<ecell4_base.core.Species object at 0x7f14918c5bd0>, <ecell4_base.core.Species object at 0x7f14918c5be8>, <ecell4_base.core.Species object at 0x7f14918c5c00>]\n",
            "[<ecell4_base.core.ReactionRule object at 0x7f14918c5bd0>, <ecell4_base.core.ReactionRule object at 0x7f14918c5be8>]\n"
          ],
          "name": "stdout"
        }
      ]
    },
    {
      "metadata": {
        "slideshow": {
          "slide_type": "subslide"
        },
        "id": "qW-zSdWYS6ne",
        "colab_type": "text"
      },
      "cell_type": "markdown",
      "source": [
        "ちなみに、特に`Species`の属性を必要としない計算(常微分方程式やGillespie法)では`add_species_attribute`は省略しても良い。"
      ]
    },
    {
      "metadata": {
        "slideshow": {
          "slide_type": "slide"
        },
        "id": "kbsl64DQS6nf",
        "colab_type": "text"
      },
      "cell_type": "markdown",
      "source": [
        "## E-Cell4を使ってModelを簡単に計算してみる"
      ]
    },
    {
      "metadata": {
        "slideshow": {
          "slide_type": "subslide"
        },
        "id": "i8lPYnHvS6nh",
        "colab_type": "text"
      },
      "cell_type": "markdown",
      "source": [
        "`World`と`Simulator`の説明がまだだが、早くシミュレーションを走らせたい人のためにここで一度計算を行なってみる。"
      ]
    },
    {
      "metadata": {
        "slideshow": {
          "slide_type": "fragment"
        },
        "id": "-5JvtZL3S6nh",
        "colab_type": "code",
        "colab": {
          "base_uri": "https://localhost:8080/",
          "height": 288
        },
        "outputId": "9546c600-1263-412b-85b5-1a8c17bb0210"
      },
      "cell_type": "code",
      "source": [
        "# XXX: 'm' is a NetworkModel, which is described in the section above.\n",
        "run_simulation(10, {'C': 60}, volume=1.0, model=m)"
      ],
      "execution_count": 17,
      "outputs": [
        {
          "output_type": "display_data",
          "data": {
            "image/png": "[encoded data removed]",
            "text/plain": [
              "<Figure size 432x288 with 1 Axes>"
            ]
          },
          "metadata": {
            "tags": []
          }
        }
      ]
    },
    {
      "metadata": {
        "slideshow": {
          "slide_type": "subslide"
        },
        "id": "I2xjApNUS6nl",
        "colab_type": "text"
      },
      "cell_type": "markdown",
      "source": [
        "`run_simulation`は分子数を記録して時系列をプロットしてくれる。\n",
        "\n",
        "- 1つ目の引数は計算時間で、今回は10秒間（0.1秒刻み）。\n",
        "- 2つ目の引数は初期値で、分子種`C`を60分子とした。\n",
        "- `volume`は計算する空間の容積。\n",
        "- `model`はモデル。先程の`NetworkModel`を与えた。"
      ]
    },
    {
      "metadata": {
        "slideshow": {
          "slide_type": "subslide"
        },
        "id": "4VQa3CyMS6nl",
        "colab_type": "text"
      },
      "cell_type": "markdown",
      "source": [
        "この味気ないプロットに満足できない人のためには確率論的計算手法というものがある。\n",
        "\n",
        "- Gillespie D.T., \"Exact stochastic simulation of coupled chemical reactions\", J. Phys. Chem., 81(25), 2340–2361 (1977)"
      ]
    },
    {
      "metadata": {
        "slideshow": {
          "slide_type": "fragment"
        },
        "id": "dDiC7XsPS6nm",
        "colab_type": "code",
        "colab": {
          "base_uri": "https://localhost:8080/",
          "height": 288
        },
        "outputId": "91f671ce-e67e-42eb-f33f-4c1fd85fb19a"
      },
      "cell_type": "code",
      "source": [
        "run_simulation(10, {'C': 60}, volume=1.0, model=m, solver='gillespie')"
      ],
      "execution_count": 18,
      "outputs": [
        {
          "output_type": "display_data",
          "data": {
            "image/png": "[encoded data removed]",
            "text/plain": [
              "<Figure size 432x288 with 1 Axes>"
            ]
          },
          "metadata": {
            "tags": []
          }
        }
      ]
    },
    {
      "metadata": {
        "id": "_qEM0_-VS6no",
        "colab_type": "text"
      },
      "cell_type": "markdown",
      "source": [
        "全く同じモデルを異る手法で計算することができた。これは問題と計算手法が分離されているからこそなせる技である。"
      ]
    },
    {
      "metadata": {
        "slideshow": {
          "slide_type": "slide"
        },
        "id": "6ydsVfWAS6np",
        "colab_type": "text"
      },
      "cell_type": "markdown",
      "source": [
        "## モデルを記述するE-Cell4の特殊記法"
      ]
    },
    {
      "metadata": {
        "slideshow": {
          "slide_type": "subslide"
        },
        "id": "yp5hboKiS6np",
        "colab_type": "text"
      },
      "cell_type": "markdown",
      "source": [
        "E-Cell4を使って`Species`と`ReactionRule`を作り、`NetworkModel`に登録して簡単に計算することができるようになった。\n",
        "\n",
        "しかし、モデルの記述はこのように簡単な結合とかい離だけであっても煩雑でモデルの読み手に伝わりづらい。\n",
        "\n",
        "そこで、E-Cell4ではこのモデルを記述するための独自の構文をいくつか勝手に用意している。"
      ]
    },
    {
      "metadata": {
        "slideshow": {
          "slide_type": "subslide"
        },
        "id": "e1HtX-LzS6nq",
        "colab_type": "text"
      },
      "cell_type": "markdown",
      "source": [
        "まずは`ReactionRule`について見てみると、"
      ]
    },
    {
      "metadata": {
        "slideshow": {
          "slide_type": "fragment"
        },
        "id": "z3Xa1OHvS6ns",
        "colab_type": "code",
        "colab": {}
      },
      "cell_type": "code",
      "source": [
        "with reaction_rules():\n",
        "    A + B > C | 0.01  # equivalent to create_binding_reaction_rule\n",
        "    C > A + B | 0.3   # equivalent to create_unbinding_reaction_rule\n",
        "\n",
        "m = get_model()"
      ],
      "execution_count": 0,
      "outputs": []
    },
    {
      "metadata": {
        "id": "GR8A3Ri4S6nu",
        "colab_type": "text"
      },
      "cell_type": "markdown",
      "source": [
        "- 特殊記法を使う時には`with`ステートメントを利用する。この下でインデントを続けている限りは特殊構文が利用できる。\n",
        "- `reaction_rules`のあとに`()`を忘れずに。\n",
        "- 構文については見ての通りで、セパレータ`|`の後に反応速度定数として数値を1つだけ与える。\n",
        "- 構文自体はあくまでもPythonであるため、不要な改行は許されない。"
      ]
    },
    {
      "metadata": {
        "slideshow": {
          "slide_type": "subslide"
        },
        "id": "VugumoM_S6nv",
        "colab_type": "text"
      },
      "cell_type": "markdown",
      "source": [
        "また、可逆反応については特別な記法があり、それを使えばより簡単になる。"
      ]
    },
    {
      "metadata": {
        "slideshow": {
          "slide_type": "fragment"
        },
        "id": "i9eJAk9IS6nv",
        "colab_type": "code",
        "colab": {
          "base_uri": "https://localhost:8080/",
          "height": 288
        },
        "outputId": "41407dbf-b2bf-4057-d366-3fef5b6039f9"
      },
      "cell_type": "code",
      "source": [
        "with reaction_rules():\n",
        "    A + B == C | (0.01, 0.3)\n",
        "\n",
        "run_simulation(10, {'C': 60})"
      ],
      "execution_count": 20,
      "outputs": [
        {
          "output_type": "display_data",
          "data": {
            "image/png": "[encoded data removed]",
            "text/plain": [
              "<Figure size 432x288 with 1 Axes>"
            ]
          },
          "metadata": {
            "tags": []
          }
        }
      ]
    },
    {
      "metadata": {
        "slideshow": {
          "slide_type": "subslide"
        },
        "id": "VySqZCXUS6ny",
        "colab_type": "text"
      },
      "cell_type": "markdown",
      "source": [
        "可逆反応の記号は`==`で、セパレータの後には`tuple`を用いて2つの速度定数を与える。\n",
        "\n",
        "`run_simulation`関数は引数`model`を指定しない場合は自分で`get_model()`を呼んでモデルとするので、このように省略可能な場合がある。"
      ]
    },
    {
      "metadata": {
        "slideshow": {
          "slide_type": "fragment"
        },
        "id": "BfXlxHRxS6nz",
        "colab_type": "text"
      },
      "cell_type": "markdown",
      "source": [
        "$${\\frac{\\mathrm{d[A]}}{\\mathrm{d}t}=\\frac{\\mathrm{d[B]}}{\\mathrm{d}t}=-0.01\\mathrm{[A][B]}+0.3\\mathrm{[C]}\\\\\n",
        "\\frac{\\mathrm{d[C]}}{\\mathrm{d}t}=+0.01\\mathrm{[A][B]}-0.3\\mathrm{[C]}\n",
        "}$$"
      ]
    },
    {
      "metadata": {
        "slideshow": {
          "slide_type": "subslide"
        },
        "id": "DyEPKWGoS6n0",
        "colab_type": "text"
      },
      "cell_type": "markdown",
      "source": [
        "### 発現や分解の記述\n",
        "\n",
        "発現や分解の反応では、反応の左辺か右辺がなにもないことになるが、E-Cell4の特殊記法では残念ながらこれらをそのまま書くことはできない。\n",
        "\n",
        "例えば、"
      ]
    },
    {
      "metadata": {
        "slideshow": {
          "slide_type": "fragment"
        },
        "id": "Ah84xVN8S6n0",
        "colab_type": "code",
        "colab": {
          "base_uri": "https://localhost:8080/",
          "height": 134
        },
        "outputId": "36342717-8c31-48fa-d41e-8f6013e1398f"
      },
      "cell_type": "code",
      "source": [
        "with reaction_rules():\n",
        "    A > | 1.0  # XXX: will throw SyntaxError\n",
        "    > A | 1.0  # XXX: will throw SyntaxError"
      ],
      "execution_count": 21,
      "outputs": [
        {
          "output_type": "error",
          "ename": "SyntaxError",
          "evalue": "ignored",
          "traceback": [
            "\u001b[0;36m  File \u001b[0;32m\"<ipython-input-21-edc7ecaf04b1>\"\u001b[0;36m, line \u001b[0;32m2\u001b[0m\n\u001b[0;31m    A > | 1.0  # XXX: will throw SyntaxError\u001b[0m\n\u001b[0m        ^\u001b[0m\n\u001b[0;31mSyntaxError\u001b[0m\u001b[0;31m:\u001b[0m invalid syntax\n"
          ]
        }
      ]
    },
    {
      "metadata": {
        "slideshow": {
          "slide_type": "subslide"
        },
        "id": "UdiTsk0HS6n3",
        "colab_type": "text"
      },
      "cell_type": "markdown",
      "source": [
        "これらを表現するために特殊記号`~`を用いる。\n",
        "\n",
        "`ReactionRule`を記述する際に`Species`の前に`~`記号を置くと反応上のその分子種の量論係数が0になる。簡単に言えば、単に無いものとみなされる。"
      ]
    },
    {
      "metadata": {
        "slideshow": {
          "slide_type": "fragment"
        },
        "id": "aIVK6_bFS6n4",
        "colab_type": "code",
        "colab": {}
      },
      "cell_type": "code",
      "source": [
        "with reaction_rules():\n",
        "    A > ~A | 1.0  # XXX: create_degradation_reaction_rule\n",
        "    ~A > A | 1.0  # XXX: create_synthesis_reaction_rule"
      ],
      "execution_count": 0,
      "outputs": []
    },
    {
      "metadata": {
        "id": "a_16wHUoS6n7",
        "colab_type": "text"
      },
      "cell_type": "markdown",
      "source": [
        "$${\\frac{\\mathrm{d[A]}}{\\mathrm{d}t}=1.0-1.0\\mathrm{[A]}}$$"
      ]
    },
    {
      "metadata": {
        "slideshow": {
          "slide_type": "skip"
        },
        "id": "ukWPC90nS6n7",
        "colab_type": "code",
        "colab": {}
      },
      "cell_type": "code",
      "source": [
        "m = get_model()"
      ],
      "execution_count": 0,
      "outputs": []
    },
    {
      "metadata": {
        "slideshow": {
          "slide_type": "slide"
        },
        "id": "mX2do60aS6n-",
        "colab_type": "text"
      },
      "cell_type": "markdown",
      "source": [
        "## 常微分方程式ソルバで`World`と`Simulator`"
      ]
    },
    {
      "metadata": {
        "id": "rdzRE5IlS6n-",
        "colab_type": "text"
      },
      "cell_type": "markdown",
      "source": [
        "`Model`が理解できれば`World`と`Simulator`はさほど難しくはない。\n",
        "\n",
        "さきほどの`run_simulation`関数で与えた`volume`と`{'C': 60}`などが`World`で、`solver`が`Simulator`に相当する。\n",
        "\n",
        "実際に`run_simulation`がしている作業を自分で書けるようにする。\n",
        "\n",
        "`run_simulation`は標準で常微分方程式ソルバ`ode`を使う。"
      ]
    },
    {
      "metadata": {
        "slideshow": {
          "slide_type": "subslide"
        },
        "id": "gXAe463pS6n_",
        "colab_type": "text"
      },
      "cell_type": "markdown",
      "source": [
        "### `ode.World`の準備\n",
        "\n",
        "まずは`World`を作る。"
      ]
    },
    {
      "metadata": {
        "id": "KuuUYngPS6n_",
        "colab_type": "code",
        "colab": {}
      },
      "cell_type": "code",
      "source": [
        "w = ode.World(Real3(1, 1, 1))"
      ],
      "execution_count": 0,
      "outputs": []
    },
    {
      "metadata": {
        "id": "gO-XUTHYS6oB",
        "colab_type": "text"
      },
      "cell_type": "markdown",
      "source": [
        "- `Real3`は3つの実数値をまとめた3次元ベクトル。`ones()`としても`Real3(1, 1, 1)`が得られる。\n",
        "- `World`は1つ目の引数として直方体の三辺の長さを受け取る。この例では一辺が1の立方体とした。"
      ]
    },
    {
      "metadata": {
        "slideshow": {
          "slide_type": "subslide"
        },
        "id": "nltKSvM4S6oB",
        "colab_type": "code",
        "colab": {
          "base_uri": "https://localhost:8080/",
          "height": 68
        },
        "outputId": "88708106-bb13-4eda-a2ea-bf4b4c8a7247"
      },
      "cell_type": "code",
      "source": [
        "print(w.t())\n",
        "print(w.edge_lengths())\n",
        "print(w.volume())"
      ],
      "execution_count": 25,
      "outputs": [
        {
          "output_type": "stream",
          "text": [
            "0.0\n",
            "<ecell4_base.core.Real3 object at 0x7f148e4acd50>\n",
            "1.0\n"
          ],
          "name": "stdout"
        }
      ]
    },
    {
      "metadata": {
        "id": "rNrwFMpLS6oE",
        "colab_type": "text"
      },
      "cell_type": "markdown",
      "source": [
        "- 時刻は`t`関数で得られる。\n",
        "- 引数に与えた直方体の三辺は`edge_lengths`関数。\n",
        "- 直方体の体積だけ知りたければ`volume`関数。"
      ]
    },
    {
      "metadata": {
        "slideshow": {
          "slide_type": "subslide"
        },
        "id": "7ueR7gvOS6oE",
        "colab_type": "text"
      },
      "cell_type": "markdown",
      "source": [
        "箱ができたので次は実際に分子を加えてみる."
      ]
    },
    {
      "metadata": {
        "slideshow": {
          "slide_type": "fragment"
        },
        "id": "mBGAGXBpS6oF",
        "colab_type": "code",
        "colab": {
          "base_uri": "https://localhost:8080/",
          "height": 34
        },
        "outputId": "0ab00375-2b7e-4df2-b8b3-671b27e0113b"
      },
      "cell_type": "code",
      "source": [
        "w.add_molecules(Species('C'), 60)\n",
        "print(w.num_molecules(Species('C')))"
      ],
      "execution_count": 26,
      "outputs": [
        {
          "output_type": "stream",
          "text": [
            "60\n"
          ],
          "name": "stdout"
        }
      ]
    },
    {
      "metadata": {
        "slideshow": {
          "slide_type": "-"
        },
        "id": "cFwPx2B1S6oH",
        "colab_type": "text"
      },
      "cell_type": "markdown",
      "source": [
        "- 分子を加えるときは`add_molecules`。\n",
        "- 減らすときはl`remove_molecules`。\n",
        "- その数を知りたければ`num_molecules`。\n",
        "\n",
        "どれも1つ目の引数は問題とする分子種`Species`。"
      ]
    },
    {
      "metadata": {
        "slideshow": {
          "slide_type": "subslide"
        },
        "id": "KX1bI0vyS6oI",
        "colab_type": "text"
      },
      "cell_type": "markdown",
      "source": [
        "ただし、`ode`ソルバでは分子数は実数値として扱われるが、これらの関数では整数値しか扱うことができない。\n",
        "\n",
        "実数を扱いたい場合は`set_value`と`get_value`を使う。"
      ]
    },
    {
      "metadata": {
        "slideshow": {
          "slide_type": "subslide"
        },
        "id": "7QfBSxeQS6oJ",
        "colab_type": "text"
      },
      "cell_type": "markdown",
      "source": [
        "### ODESimulatorの作成と実行\n",
        "\n",
        "`Simulator`は`Model`と`World`を与えることで作れる。"
      ]
    },
    {
      "metadata": {
        "slideshow": {
          "slide_type": "skip"
        },
        "id": "Q9fb7QdHS6oJ",
        "colab_type": "code",
        "colab": {}
      },
      "cell_type": "code",
      "source": [
        "with reaction_rules():\n",
        "    A + B == C | (0.01, 0.3)\n",
        "\n",
        "m = get_model()"
      ],
      "execution_count": 0,
      "outputs": []
    },
    {
      "metadata": {
        "id": "gMD0pmsES6oN",
        "colab_type": "code",
        "colab": {}
      },
      "cell_type": "code",
      "source": [
        "sim = ode.Simulator(w, m)"
      ],
      "execution_count": 0,
      "outputs": []
    },
    {
      "metadata": {
        "slideshow": {
          "slide_type": "fragment"
        },
        "id": "1ZN7MCqhS6oO",
        "colab_type": "text"
      },
      "cell_type": "markdown",
      "source": [
        "あとは`run`関数を呼べば計算が行われる。"
      ]
    },
    {
      "metadata": {
        "id": "nFwZOY2fS6oP",
        "colab_type": "code",
        "colab": {}
      },
      "cell_type": "code",
      "source": [
        "sim.run(10)"
      ],
      "execution_count": 0,
      "outputs": []
    },
    {
      "metadata": {
        "slideshow": {
          "slide_type": "fragment"
        },
        "id": "b04GyJUxS6oR",
        "colab_type": "text"
      },
      "cell_type": "markdown",
      "source": [
        "`World`の状態がどう変わったかをみてみよう。計算が進み、`C`の数が減っている。"
      ]
    },
    {
      "metadata": {
        "id": "mRFQmCkDS6oT",
        "colab_type": "code",
        "colab": {
          "base_uri": "https://localhost:8080/",
          "height": 34
        },
        "outputId": "4353e8af-8e02-42f1-b76b-6aa9e011fd2d"
      },
      "cell_type": "code",
      "source": [
        "print(w.t(), w.num_molecules(Species('C')))"
      ],
      "execution_count": 30,
      "outputs": [
        {
          "output_type": "stream",
          "text": [
            "10.0 30\n"
          ],
          "name": "stdout"
        }
      ]
    },
    {
      "metadata": {
        "slideshow": {
          "slide_type": "fragment"
        },
        "id": "z3vIIJEHS6oV",
        "colab_type": "text"
      },
      "cell_type": "markdown",
      "source": [
        "`World`はあくまでも現在もしくはある時点での状態を表すもので、これだけでは途中の経過を追うことができない。"
      ]
    },
    {
      "metadata": {
        "slideshow": {
          "slide_type": "subslide"
        },
        "id": "_bz3P5zWS6oW",
        "colab_type": "text"
      },
      "cell_type": "markdown",
      "source": [
        "時系列を得るためには`Observer`を使う。"
      ]
    },
    {
      "metadata": {
        "id": "N2uV2easS6oW",
        "colab_type": "code",
        "colab": {
          "base_uri": "https://localhost:8080/",
          "height": 54
        },
        "outputId": "92ee3d2d-f6bc-426a-b9f1-392352363301"
      },
      "cell_type": "code",
      "source": [
        "obs = FixedIntervalNumberObserver(1, ('A', 'B', 'C'))\n",
        "sim.run(10, obs)\n",
        "print(obs.data())"
      ],
      "execution_count": 31,
      "outputs": [
        {
          "output_type": "stream",
          "text": [
            "[[10.0, 29.99444517371379, 29.994445173713803, 30.005554826286183], [11.0, 29.99774041252827, 29.997740412528284, 30.002259587471702], [12.0, 29.99908086688785, 29.999080866887866, 30.00091913311212], [13.0, 29.99962612723216, 29.999626127232172, 30.000373872767813], [14.0, 29.999847921543797, 29.99984792154381, 30.000152078456175], [15.0, 29.999938139856496, 29.99993813985651, 30.000061860143475], [16.0, 29.999974837493898, 29.999974837493912, 30.000025162506073], [17.0, 29.999989764789976, 29.99998976478999, 30.000010235209995], [18.0, 29.99999583668202, 29.999995836682036, 30.00000416331795], [19.0, 29.999998306510967, 29.99999830651098, 30.000001693489004], [20.0, 29.99999931114916, 29.999999311149175, 30.00000068885081]]\n"
          ],
          "name": "stdout"
        }
      ]
    },
    {
      "metadata": {
        "slideshow": {
          "slide_type": "fragment"
        },
        "id": "GhWL2HjDS6oa",
        "colab_type": "text"
      },
      "cell_type": "markdown",
      "source": [
        "`Observer`には様々な種類があるが、時系列を得るには`FixedIntervalNumberObserver`を使う。\n",
        "\n",
        "決まった時間幅で分子数を記録する。1つ目の引数が時間幅で、2つ目の引数が分子種。その結果は`data`関数で引き出せる。\n",
        "\n",
        "`viz.plot_number_observer`関数で簡単に時系列をプロットすることもできる（単に`show`としても良い）。"
      ]
    },
    {
      "metadata": {
        "slideshow": {
          "slide_type": "subslide"
        },
        "id": "YuCZHlveS6ob",
        "colab_type": "text"
      },
      "cell_type": "markdown",
      "source": [
        "### まとめ\n",
        "\n",
        "ここまでの内容をまとめて書くと、"
      ]
    },
    {
      "metadata": {
        "id": "-BUGwDC8S6ob",
        "colab_type": "code",
        "colab": {
          "base_uri": "https://localhost:8080/",
          "height": 288
        },
        "outputId": "3385996a-a5d6-4714-be3c-6d124ad955ff"
      },
      "cell_type": "code",
      "source": [
        "w = ode.World(Real3(1, 1, 1))\n",
        "w.add_molecules(Species('C'), 60)\n",
        "\n",
        "sim = ode.Simulator(w, m)\n",
        "obs = FixedIntervalNumberObserver(0.1, ('A', 'B', 'C'))\n",
        "sim.run(10, obs)\n",
        "\n",
        "viz.plot_number_observer(obs)"
      ],
      "execution_count": 32,
      "outputs": [
        {
          "output_type": "display_data",
          "data": {
            "image/png": "[encoded data removed]",
            "text/plain": [
              "<Figure size 432x288 with 1 Axes>"
            ]
          },
          "metadata": {
            "tags": []
          }
        }
      ]
    },
    {
      "metadata": {
        "slideshow": {
          "slide_type": "subslide"
        },
        "id": "nzUl6iNRS6od",
        "colab_type": "text"
      },
      "cell_type": "markdown",
      "source": [
        "### ソルバを切り替える\n",
        "\n",
        "`run_simulation`で試した通り、確率論的手法に切り替えることはさほど難しくない。"
      ]
    },
    {
      "metadata": {
        "slideshow": {
          "slide_type": "fragment"
        },
        "id": "lBb6xe8_S6oe",
        "colab_type": "code",
        "colab": {
          "base_uri": "https://localhost:8080/",
          "height": 288
        },
        "outputId": "0c3c00a1-d56a-4250-b003-43e66baa96a1"
      },
      "cell_type": "code",
      "source": [
        "# ode.World -> gillespie.World\n",
        "w = gillespie.World(ones())\n",
        "w.add_molecules(Species('C'), 60)\n",
        "\n",
        "# ode.Simulator -> gillespie.Simulator\n",
        "sim = gillespie.Simulator(w, m)\n",
        "obs = FixedIntervalNumberObserver(0.1, ('A', 'B', 'C'))\n",
        "sim.run(10, obs)\n",
        "\n",
        "show(obs)"
      ],
      "execution_count": 33,
      "outputs": [
        {
          "output_type": "display_data",
          "data": {
            "image/png": "[encoded data removed]",
            "text/plain": [
              "<Figure size 432x288 with 1 Axes>"
            ]
          },
          "metadata": {
            "tags": []
          }
        }
      ]
    },
    {
      "metadata": {
        "slideshow": {
          "slide_type": "slide"
        },
        "id": "i4sfnbuAS6oh",
        "colab_type": "text"
      },
      "cell_type": "markdown",
      "source": [
        "## 練習問題"
      ]
    },
    {
      "metadata": {
        "slideshow": {
          "slide_type": "fragment"
        },
        "id": "qdvVx3qmS6oi",
        "colab_type": "text"
      },
      "cell_type": "markdown",
      "source": [
        "- **`Model`に関する練習**： モデルといえば振動モデルが華だが、今回は質量作用則以外の反応式は使えない。質量作用則だけを用いて振動モデルを作るためにはいくつの反応が必要だろうか？できるだけ少ない反応数で作る方法はないか？"
      ]
    },
    {
      "metadata": {
        "slideshow": {
          "slide_type": "fragment"
        },
        "id": "1GLqG2hFS6oj",
        "colab_type": "text"
      },
      "cell_type": "markdown",
      "source": [
        "- **`run_simulation`に関する練習**: `gillespie`ソルバは確率論的手法と呼ばれているが、分子の数が多くなれば、決定論的な結果に近づくと考えられる。実際に容積や分子数を増やしてみて、その結果がどうなるか確認する。"
      ]
    },
    {
      "metadata": {
        "slideshow": {
          "slide_type": "subslide"
        },
        "id": "WvYExY2bS6ol",
        "colab_type": "text"
      },
      "cell_type": "markdown",
      "source": [
        "- **`World`と`Simulator`に関する練習**: `run_simulation`関数では連続した計算しかできない。`World`と`Simulator`を使って、計算を5秒間行った後、分子の数を変えて再び5秒の計算を行ってみる。また、その結果を`Observer`を用いてプロットしてみよう。ただし、`World`の状態を変えた場合は`Simulator`を`initialize()`しなければならないので注意。"
      ]
    },
    {
      "metadata": {
        "slideshow": {
          "slide_type": "fragment"
        },
        "id": "F2fHYOGiS6ol",
        "colab_type": "text"
      },
      "cell_type": "markdown",
      "source": [
        "- **`Observer`に関する練習**: `viz.plot_number_observer`関数は複数の`NumberObserver`を受け取って重ねてプロットすることができる。そこで、1つのモデルを作成し、`ode`と`gillespie`のそれぞれでシミュレーションを行い,結果を記録した2つの`Observer`を同時に表示させて比較する。"
      ]
    }
  ]
}